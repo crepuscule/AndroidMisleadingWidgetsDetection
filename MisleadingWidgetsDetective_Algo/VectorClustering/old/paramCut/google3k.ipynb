{
 "cells": [
  {
   "cell_type": "code",
   "execution_count": 3,
   "metadata": {},
   "outputs": [
    {
     "name": "stdout",
     "output_type": "stream",
     "text": [
      "api数 0\n",
      "文档数 0\n"
     ]
    }
   ],
   "source": [
    "# 基本思路：\n",
    "# idf思路\n",
    "# 读入home文件中的各txt数据，统计每个api（词项）在各个txt即apk中出现与否，然后用apk（文档）总数除之，得到idf矩阵\n",
    "# tf-idf思路\n",
    "# 对于每一篇文章，统计归一化词频，即这个api在这个apk中出现的频率\n",
    "\n",
    "def initConfig():\n",
    "    config = {\n",
    "    # Datas ---------\n",
    "    # 8701313\n",
    "    'UNIVERSAL_RECORDS_PATH':'/data/wangruifeng/datasets/WidgetClustering/staticWidgetResources/raw_data/record_data/origin/traditional/benign_pa.csv',\n",
    "    'SIMPLIFIED_RECORDS_PATH':'',\n",
    "    'PICTURES_PATH':'/storage/NewStaticWidgetData/raw_data/image_data/',\n",
    "    # 16266\n",
    "    'MEANINGFUL_RECORDS_PATH':'/data/wangruifeng/datasets/WidgetClustering/staticWidgetResources/raw_data/record_data/origin/benign_pa_meaningful.csv',\n",
    "    'TEMP_MEANINGFUL_RECORDS_PATH':'/data/wangruifeng/datasets/WidgetClustering/staticWidgetResources/raw_data/record_data/origin/benign_pa_unisim_static.csv',\n",
    "\n",
    "\n",
    "    #Transform\n",
    "    'APK_TREE_PATH':'/storage/NewStaticWidgetData/generated_data/MoreWidget/Transform/apkTree.json',\n",
    "    'APK_PATH_TREE_PATH':'/storage/NewStaticWidgetData/generated_data/MoreWidget/Transform/apkPathTree.json',\n",
    "\n",
    "    #Feature\n",
    "    'APK_LOGS_DIR':'/data/wangruifeng/datasets/WidgetClustering/staticWidgetResources/raw_data/feature_data/apklogs/',\n",
    "    'API_UNIVERSAL_RECORD_PATH':'/data/wangruifeng/datasets/WidgetClustering/staticWidgetResources/raw_data/out_data/total_api_list.txt',\n",
    "    'CHOICEN_IDF_MAP_PATH':'/data/wangruifeng/datasets/WidgetClustering/staticWidgetResources/raw_data/out_data/black_api.txt',\n",
    "\n",
    "    #VectorCluster\n",
    "    'API_VECTORS_PATH':'/data/wangruifeng/datasets/WidgetClustering/staticWidgetResources/intermediate_data/VectorClustering/vectors/apiVector.txt',\n",
    "    'API_VECTORS_COLUMN_PATH':'/data/wangruifeng/datasets/WidgetClustering/staticWidgetResources/intermediate_data/VectorClustering/vectors/apiVectorColumn.txt',\n",
    "    'API_VECTORS_NAME_PATH':'/data/wangruifeng/datasets/WidgetClustering/staticWidgetResources/intermediate_data/VectorClustering/vectors/apiVectoName.txt',\n",
    "    }\n",
    "    return config\n",
    "   \n",
    "def analysisAPK(apkLogPath):\n",
    "    apiSet = set()\n",
    "    apkLogFile = open(apkLogPath,'r')\n",
    "    apkLog = apkLogFile.readlines()\n",
    "    apiSet.update(apkLog)\n",
    "    # 在文档中出现没出现的概念\n",
    "    return apiSet\n",
    "\n",
    "def readAPKs(apkLogDir):\n",
    "    import os\n",
    "    # 存储api set的list\n",
    "    apiSetLists = []\n",
    "    apiTotalSet = set()\n",
    "    for root,dirs,files in os.walk(apkLogDir):\n",
    "        for apkLogPath in files:\n",
    "            apkLogPath = os.path.join(root , apkLogPath)\n",
    "            # 括号中内容分析之后返回一个api的set，这只为计算idf\n",
    "            apiSetLists.append(analysisAPK(apkLogPath))\n",
    "            apiTotalSet.update(analysisAPK(apkLogPath))\n",
    "    \n",
    "    apiTotalSet = list(apiTotalSet)\n",
    "    print('api数',len(apiTotalSet))\n",
    "    apiTotalSet.sort()\n",
    "    prepareValue = [0]*len(apiTotalSet)\n",
    "    # 对于所有的api，统计出现它文档的个数得到频率\n",
    "    idfMap = dict(zip(apiTotalSet,prepareValue))\n",
    "    #遍历apisetlist，见到一个api加一个api，因为一个文档只可能加1次某api\n",
    "    #所以相当于实现了统计所有api的文档频率\n",
    "    for apiSet in apiSetLists:\n",
    "        for api in apiSet:\n",
    "            idfMap[api]+=1\n",
    "\n",
    "    return apiSetLists,idfMap\n",
    "\n",
    "\n",
    "#API_VECTORS_PATH\n",
    "def readVectors(savePath):\n",
    "    import numpy\n",
    "    widgetAPIVectors = numpy.loadtxt(savePath,dtype=numpy.int32)\n",
    "    return widgetAPIVectors\n",
    "    \n",
    "def calcIDF(apiSetLists,idfMap):\n",
    "    import math\n",
    "    # 相当于统计文档数\n",
    "    N = len(apiSetLists)\n",
    "    print('文档数',N)\n",
    "    for api,df in idfMap.items():\n",
    "        idfMap[api] = math.log10(N/(df+1))\n",
    "    return idfMap\n",
    "\n",
    "# 一般可以选择-，这样方便后面排除\n",
    "# 如果可以使用加权聚类，那这些就不必了\n",
    "def chooseAbove(idfMap,aboveValue=0,aboveRatio=0):\n",
    "    if aboveValue ==0:\n",
    "        return idfMap\n",
    "    choicenIdfMap = dict()\n",
    "    for api,idf in idfMap.items():\n",
    "        if aboveValue <0:\n",
    "            if idf < -aboveValue:\n",
    "                choicenIdfMap[api]=idf\n",
    "        elif aboveValue > 0 :        \n",
    "            if idf > aboveValue:\n",
    "                choicenIdfMap[api]=idf\n",
    "    return choicenIdfMap\n",
    "\n",
    "def show(config):\n",
    "    apiSetLists,idfMap = readAPKs(config['APK_LOGS_DIR'])\n",
    "    idfMap = calcIDF( apiSetLists,idfMap)\n",
    "    choicenIdfMap = chooseAbove(idfMap,0,0)\n",
    "    import operator\n",
    "    sortedChoicenIdfMap = sorted(choicenIdfMap.items(),key = operator.itemgetter(1),reverse=True)\n",
    "    idfs = []\n",
    "    for key,value in sortedChoicenIdfMap:\n",
    "        print('%.2f | %s' % (float(value),key),end='')\n",
    "        idfs.append(value)\n",
    "    return idfMap,choicenIdfMap ,idfs\n",
    "\n",
    "def saveBlackList(choicenIdfMap,savechoicenIdfMapPath):\n",
    "    file_handle=open(savechoicenIdfMapPath,mode='w')\n",
    "    #     writeContent = []\n",
    "    #     for item in choicenIdfMap.keys():\n",
    "    #         classitem = item.split('.')[:-1]\n",
    "    #         methoditem = item.split('.')[-1]\n",
    "    #         writeContent.append('<'+'.'.join(classitem)+': '+methoditem+'>')\n",
    "    file_handle.write(\"\".join(choicenIdfMap.keys()))\n",
    "    file_handle.close()\n",
    "\n",
    "if __name__=='__main__':\n",
    "    config = initConfig()\n",
    "    idfMap,choicenIdfMap,idfs = show(config)\n",
    "    #saveBlackList(choicenIdfMap,config['CHOICEN_IDF_MAP_PATH'])\n",
    "    \n",
    "    \n",
    "# savePath = '/storage/staticResourceImages/beforeclustering/oldversion/total_benign_pa_vectors.txt'\n",
    "# dataSourcePath = '/storage/staticResourceImages/beforeclustering/oldversion/total_benign_pa_dicts.pth'\n",
    "#savePath = '/storage/staticResourceImages/beforeclustering/benign_pa_vectors.txt'\n",
    "#dataSourcePath = '/storage/staticResourceImages/beforeclustering/benign_pa_dicts.pth'\n",
    "#saveAPINamePath = '/storage/staticResourceImages/beforeclustering/benign_pa_vectornames.txt'\n",
    "#newSavePath='/storage/staticResourceImages/beforeclustering/benign_pa_vectors_idf.txt'\n",
    "\n",
    "\n",
    "\n",
    "\n",
    "#newAPIVector = createNewVector(X,indexs,newSavePath)\n",
    "#print(newAPIVector.shape)\n"
   ]
  },
  {
   "cell_type": "code",
   "execution_count": 2,
   "metadata": {},
   "outputs": [
    {
     "ename": "NameError",
     "evalue": "name 'idfs' is not defined",
     "output_type": "error",
     "traceback": [
      "\u001b[0;31m---------------------------------------------------------------------------\u001b[0m",
      "\u001b[0;31mNameError\u001b[0m                                 Traceback (most recent call last)",
      "\u001b[0;32m<ipython-input-2-86f520059fbc>\u001b[0m in \u001b[0;36m<module>\u001b[0;34m()\u001b[0m\n\u001b[0;32m----> 1\u001b[0;31m \u001b[0ma\u001b[0m \u001b[0;34m=\u001b[0m \u001b[0midfs\u001b[0m\u001b[0;34m\u001b[0m\u001b[0;34m\u001b[0m\u001b[0m\n\u001b[0m\u001b[1;32m      2\u001b[0m \u001b[0mi\u001b[0m \u001b[0;34m=\u001b[0m \u001b[0;34m(\u001b[0m\u001b[0mlen\u001b[0m\u001b[0;34m(\u001b[0m\u001b[0midfs\u001b[0m\u001b[0;34m)\u001b[0m \u001b[0;34m+\u001b[0m\u001b[0;36m1\u001b[0m \u001b[0;34m)\u001b[0m\u001b[0;34m/\u001b[0m\u001b[0;36m4\u001b[0m\u001b[0;34m\u001b[0m\u001b[0;34m\u001b[0m\u001b[0m\n\u001b[1;32m      3\u001b[0m \u001b[0mi\u001b[0m \u001b[0;34m=\u001b[0m \u001b[0mint\u001b[0m\u001b[0;34m(\u001b[0m\u001b[0mi\u001b[0m\u001b[0;34m)\u001b[0m\u001b[0;34m\u001b[0m\u001b[0;34m\u001b[0m\u001b[0m\n\u001b[1;32m      4\u001b[0m \u001b[0mprint\u001b[0m\u001b[0;34m(\u001b[0m\u001b[0mi\u001b[0m\u001b[0;34m)\u001b[0m\u001b[0;34m\u001b[0m\u001b[0;34m\u001b[0m\u001b[0m\n\u001b[1;32m      5\u001b[0m \u001b[0mprint\u001b[0m\u001b[0;34m(\u001b[0m\u001b[0mlen\u001b[0m\u001b[0;34m(\u001b[0m\u001b[0midfs\u001b[0m\u001b[0;34m)\u001b[0m\u001b[0;34m)\u001b[0m\u001b[0;34m\u001b[0m\u001b[0;34m\u001b[0m\u001b[0m\n",
      "\u001b[0;31mNameError\u001b[0m: name 'idfs' is not defined"
     ]
    }
   ],
   "source": [
    "a = idfs\n",
    "i = (len(idfs) +1 )/4 \n",
    "i = int(i)\n",
    "print(i)\n",
    "print(len(idfs))\n",
    "\n",
    "print(idfs[3*851])\n",
    "Q1 = float(a[i-1][0]) * 0.5 + float(a[i][0]) * 0.5\n",
    "Q3 = a[3*i-1] * 0.5 + a[3*i] * 0.5\n",
    "#Q1 = float(a[i-1][0])\n",
    "#Q3 = float(a[3*i+1-1][0])\n",
    "print(Q1,Q3)\n",
    "\n",
    "item = item.strip('<').strip('>')\n",
    "classitem = item.split(\": \")[0]\n",
    "methoditem = item.split(\": \")[1]\n",
    "methoditem = methoditem.split(\" \")[-1]\n",
    "matchAPISet.append(classitem+'.'+methoditem)"
   ]
  },
  {
   "cell_type": "code",
   "execution_count": 7,
   "metadata": {},
   "outputs": [
    {
     "data": {
      "image/png": "[encoded data removed]",
      "text/plain": [
       "<Figure size 432x288 with 1 Axes>"
      ]
     },
     "metadata": {},
     "output_type": "display_data"
    }
   ],
   "source": [
    "import numpy as np\n",
    "import pandas as pd\n",
    "import matplotlib.pyplot as plt\n",
    "data = {'idfs': idfs}\n",
    "df = pd.DataFrame(data)\n",
    "df.plot.box(title=\"idfs\")\n",
    "plt.grid(linestyle=\"--\", alpha=0.3)\n",
    "plt.show()"
   ]
  },
  {
   "cell_type": "code",
   "execution_count": 8,
   "metadata": {},
   "outputs": [
    {
     "name": "stderr",
     "output_type": "stream",
     "text": [
      "No handles with labels found to put in legend.\n"
     ]
    },
    {
     "data": {
      "image/png": "[encoded data removed]",
      "text/plain": [
       "<Figure size 432x288 with 1 Axes>"
      ]
     },
     "metadata": {},
     "output_type": "display_data"
    }
   ],
   "source": [
    "import matplotlib.pyplot as plt\n",
    "from matplotlib.font_manager import FontProperties\n",
    "\n",
    "\n",
    "salary = idfs\n",
    "\n",
    "#group = [0,0.5,1,1.5,2,2.5,3,3.5,4]\n",
    "group = 10\n",
    "bottom = [0,5]\n",
    "\n",
    "plt.hist(salary, group, histtype='bar', rwidth=0.8)\n",
    "\n",
    "plt.legend()\n",
    "\n",
    "plt.xlabel('idfs')\n",
    "plt.ylabel('number')\n",
    "\n",
    "\n",
    "\n",
    "plt.show()\n"
   ]
  },
  {
   "cell_type": "code",
   "execution_count": null,
   "metadata": {
    "collapsed": true
   },
   "outputs": [],
   "source": []
  }
 ],
 "metadata": {
  "kernelspec": {
   "display_name": "Python [default]",
   "language": "python",
   "name": "python3"
  },
  "language_info": {
   "codemirror_mode": {
    "name": "ipython",
    "version": 3
   },
   "file_extension": ".py",
   "mimetype": "text/x-python",
   "name": "python",
   "nbconvert_exporter": "python",
   "pygments_lexer": "ipython3",
   "version": "3.6.10"
  }
 },
 "nbformat": 4,
 "nbformat_minor": 2
}
